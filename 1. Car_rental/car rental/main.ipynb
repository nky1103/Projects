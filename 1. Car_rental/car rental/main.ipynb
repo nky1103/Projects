{
 "cells": [
  {
   "cell_type": "code",
   "execution_count": null,
   "id": "1ad71287-48b1-4928-ac3d-6a6221414927",
   "metadata": {},
   "outputs": [
    {
     "name": "stdout",
     "output_type": "stream",
     "text": [
      "1. Display available cars\n",
      "2. Rent a car\n",
      "3. Return a car\n",
      "4. Exit\n"
     ]
    },
    {
     "name": "stdin",
     "output_type": "stream",
     "text": [
      "Enter your choice (1-4):  2\n",
      "Enter the number of cars to rent:  3\n",
      "Enter rental mode (hourly/daily/weekly):  daily\n"
     ]
    },
    {
     "name": "stdout",
     "output_type": "stream",
     "text": [
      "Rented 3 cars for daily mode\n",
      "1. Display available cars\n",
      "2. Rent a car\n",
      "3. Return a car\n",
      "4. Exit\n"
     ]
    }
   ],
   "source": [
    "# main.ipynb\n",
    "from car_rental import CarRental\n",
    "from customer import Customer\n",
    "\n",
    "def main():\n",
    "    total_cars = 10\n",
    "    rental = CarRental(total_cars)\n",
    "    customer = Customer(\"John Doe\")\n",
    "    \n",
    "    while True:\n",
    "        print(\"1. Display available cars\")\n",
    "        print(\"2. Rent a car\")\n",
    "        print(\"3. Return a car\")\n",
    "        print(\"4. Exit\")\n",
    "        \n",
    "        choice = int(input(\"Enter your choice (1-4): \"))\n",
    "        \n",
    "        if choice == 1:\n",
    "            print(rental.display_available_cars())\n",
    "        elif choice == 2:\n",
    "            num_cars = int(input(\"Enter the number of cars to rent: \"))\n",
    "            rental_mode = input(\"Enter rental mode (hourly/daily/weekly): \")\n",
    "            print(customer.request_cars(rental, num_cars, rental_mode))\n",
    "        elif choice == 3:\n",
    "            rental_start_time = datetime.strptime(input(\"Enter rental start time (YYYY-MM-DD HH:MM:SS): \"), \"%Y-%m-%d %H:%M:%S\")\n",
    "            rental_mode = input(\"Enter rental mode (hourly/daily/weekly): \")\n",
    "            num_cars = int(input(\"Enter the number of cars to return: \"))\n",
    "            print(customer.return_cars(rental, rental_start_time, rental_mode, num_cars))\n",
    "        elif choice == 4:\n",
    "            print(\"Exiting program.\")\n",
    "            break\n",
    "        else:\n",
    "            print(\"Invalid choice. Please enter a number between 1 and 4.\")\n",
    "\n",
    "if __name__ == \"__main__\":\n",
    "    main()\n"
   ]
  },
  {
   "cell_type": "code",
   "execution_count": null,
   "id": "6b640c03-f121-49f2-b079-14fa520f50b1",
   "metadata": {},
   "outputs": [],
   "source": []
  }
 ],
 "metadata": {
  "kernelspec": {
   "display_name": "Python 3 (ipykernel)",
   "language": "python",
   "name": "python3"
  },
  "language_info": {
   "codemirror_mode": {
    "name": "ipython",
    "version": 3
   },
   "file_extension": ".py",
   "mimetype": "text/x-python",
   "name": "python",
   "nbconvert_exporter": "python",
   "pygments_lexer": "ipython3",
   "version": "3.10.9"
  }
 },
 "nbformat": 4,
 "nbformat_minor": 5
}
